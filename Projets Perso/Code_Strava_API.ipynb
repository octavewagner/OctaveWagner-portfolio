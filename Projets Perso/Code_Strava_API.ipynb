{
  "nbformat": 4,
  "nbformat_minor": 0,
  "metadata": {
    "colab": {
      "provenance": []
    },
    "kernelspec": {
      "name": "python3",
      "display_name": "Python 3"
    },
    "language_info": {
      "name": "python"
    }
  },
  "cells": [
    {
      "cell_type": "markdown",
      "source": [
        "Code pour récupérer toutes mes données Strava + Préparation de base de données pour analyser mes activités de \"Running\" pour un DashBoard (Looker)\n",
        "\n",
        "Code en cours de modification.\n",
        "\n",
        "Looker Studio : https://lookerstudio.google.com/reporting/c6a61b3a-7a37-423d-a725-44d4daf62fe4"
      ],
      "metadata": {
        "id": "tqVddVPnoQIZ"
      }
    },
    {
      "cell_type": "code",
      "execution_count": 63,
      "metadata": {
        "colab": {
          "base_uri": "https://localhost:8080/"
        },
        "id": "XWYdoz1lHBgj",
        "outputId": "4f66a4ce-227f-495d-f3f1-1090a6c638a1"
      },
      "outputs": [
        {
          "output_type": "stream",
          "name": "stdout",
          "text": [
            "✅ Access Token : e65d0c90540d25c7177cc630ce811cbe00727a09\n",
            "🔁 Refresh Token : a880ebed7100faff4e4a2447bd5d30e67c001fcb\n",
            "📅 Expiration timestamp : 1752773063\n"
          ]
        }
      ],
      "source": [
        "import requests\n",
        "\n",
        "client_id = 168568\n",
        "client_secret = \"b1a8236527721977c9b839e02468f5d64428d5bd\"\n",
        "code = \"6a782f72f35ada6daf6d6bf2907756c77e56e44e\"\n",
        "\n",
        "response = requests.post(\n",
        "    \"https://www.strava.com/oauth/token\",\n",
        "    data={\n",
        "        \"client_id\": client_id,\n",
        "        \"client_secret\": client_secret,\n",
        "        \"code\": code,\n",
        "        \"grant_type\": \"authorization_code\"\n",
        "    }\n",
        ")\n",
        "\n",
        "token_data = response.json()\n",
        "\n",
        "print(\"✅ Access Token :\", token_data.get(\"access_token\"))\n",
        "print(\"🔁 Refresh Token :\", token_data.get(\"refresh_token\"))\n",
        "print(\"📅 Expiration timestamp :\", token_data.get(\"expires_at\"))\n"
      ]
    },
    {
      "cell_type": "code",
      "source": [
        "import time\n",
        "import pandas as pd\n",
        "\n",
        "# Récupération du token obtenu juste avant\n",
        "access_token = token_data.get(\"access_token\")\n",
        "\n",
        "headers = {\n",
        "    \"Authorization\": f\"Bearer {access_token}\"\n",
        "}\n",
        "\n",
        "all_activities = []\n",
        "page = 1\n",
        "\n",
        "print(\"\\n📦 Téléchargement des activités Strava en cours...\")\n",
        "\n",
        "while True:\n",
        "    response = requests.get(\n",
        "        \"https://www.strava.com/api/v3/athlete/activities\",\n",
        "        headers=headers,\n",
        "        params={\n",
        "            \"per_page\": 200,\n",
        "            \"page\": page\n",
        "        }\n",
        "    )\n",
        "\n",
        "    if response.status_code != 200:\n",
        "        print(f\"❌ Erreur {response.status_code} : {response.text}\")\n",
        "        break\n",
        "\n",
        "    activities = response.json()\n",
        "\n",
        "    if not activities:\n",
        "        print(\"✅ Toutes les activités ont été récupérées.\")\n",
        "        break\n",
        "\n",
        "    all_activities.extend(activities)\n",
        "    print(f\"📄 Page {page} : {len(activities)} activités ajoutées.\")\n",
        "    page += 1\n",
        "    time.sleep(1)\n",
        "\n",
        "# Transformation en DataFrame\n",
        "df = pd.DataFrame(all_activities)\n"
      ],
      "metadata": {
        "colab": {
          "base_uri": "https://localhost:8080/"
        },
        "id": "zEL_uPn2HJ4U",
        "outputId": "7023adf5-66c1-4f0a-80c0-4a4525d98ea6"
      },
      "execution_count": 64,
      "outputs": [
        {
          "output_type": "stream",
          "name": "stdout",
          "text": [
            "\n",
            "📦 Téléchargement des activités Strava en cours...\n",
            "📄 Page 1 : 200 activités ajoutées.\n",
            "📄 Page 2 : 200 activités ajoutées.\n",
            "📄 Page 3 : 200 activités ajoutées.\n",
            "📄 Page 4 : 176 activités ajoutées.\n",
            "✅ Toutes les activités ont été récupérées.\n"
          ]
        }
      ]
    },
    {
      "cell_type": "code",
      "source": [
        "df_run = df[df['type'] == 'Run'].copy()\n",
        "\n",
        "\n",
        "\n"
      ],
      "metadata": {
        "id": "nt6yA1JkIsQJ"
      },
      "execution_count": 65,
      "outputs": []
    },
    {
      "cell_type": "code",
      "source": [
        "df_run['sortie_longue'] = df_run[\"name\"].str.lower().str.contains(\"sl|sortie longue\")"
      ],
      "metadata": {
        "id": "4UUqBEewKfIe"
      },
      "execution_count": 66,
      "outputs": []
    },
    {
      "cell_type": "code",
      "source": [
        "df_run[\"date\"] = pd.to_datetime(df[\"start_date_local\"].str[:10])\n"
      ],
      "metadata": {
        "id": "qeQjmqWfK63v"
      },
      "execution_count": 67,
      "outputs": []
    },
    {
      "cell_type": "code",
      "source": [
        "df_run[\"distance\"] = df_run[\"distance\"] / 1000\n",
        "\n",
        "df_run['average_speed'] = df_run['average_speed'] * 3.6"
      ],
      "metadata": {
        "id": "fulY-K73QcCA"
      },
      "execution_count": 68,
      "outputs": []
    },
    {
      "cell_type": "code",
      "source": [
        "from google.colab import auth\n",
        "auth.authenticate_user()\n",
        "\n",
        "import gspread\n",
        "from google.auth import default\n",
        "from gspread_dataframe import set_with_dataframe\n",
        "\n",
        "# Authentification\n",
        "creds, _ = default()\n",
        "gc = gspread.authorize(creds)\n",
        "\n",
        "# 🔍 Vérifie si le fichier existe déjà\n",
        "spreadsheet_name = \"Strava_Run_Exportv2\"\n",
        "try:\n",
        "    spreadsheet = gc.open(spreadsheet_name)\n",
        "    print(f\"📄 Fichier '{spreadsheet_name}' trouvé. Mise à jour en cours.\")\n",
        "except gspread.exceptions.SpreadsheetNotFound:\n",
        "    spreadsheet = gc.create(spreadsheet_name)\n",
        "    print(f\"📄 Fichier '{spreadsheet_name}' créé.\")\n",
        "\n",
        "# 📌 Récupère ou crée l'onglet\n",
        "try:\n",
        "    worksheet = spreadsheet.worksheet(\"Sheet1\")\n",
        "except gspread.exceptions.WorksheetNotFound:\n",
        "    worksheet = spreadsheet.add_worksheet(title=\"Sheet1\", rows=1000, cols=20)\n",
        "\n",
        "# 🧹 Vide l'onglet existant\n",
        "worksheet.clear()\n",
        "\n",
        "# ⬆️ Envoie les données\n",
        "set_with_dataframe(worksheet, df_run)\n",
        "\n",
        "print(f\"✅ 'df_run' exporté avec succès dans le fichier Google Sheets : '{spreadsheet_name}'\")\n",
        "\n"
      ],
      "metadata": {
        "colab": {
          "base_uri": "https://localhost:8080/"
        },
        "id": "5DOzWT4OMqYs",
        "outputId": "94626887-6943-4a7a-f90d-5e7026c40857"
      },
      "execution_count": 69,
      "outputs": [
        {
          "output_type": "stream",
          "name": "stdout",
          "text": [
            "📄 Fichier 'Strava_Run_Exportv2' trouvé. Mise à jour en cours.\n",
            "✅ 'df_run' exporté avec succès dans le fichier Google Sheets : 'Strava_Run_Exportv2'\n"
          ]
        }
      ]
    }
  ]
}